{
  "nbformat": 4,
  "nbformat_minor": 0,
  "metadata": {
    "colab": {
      "provenance": [],
      "authorship_tag": "ABX9TyObqpBwr0FXn7ORhvYR/FX9",
      "include_colab_link": true
    },
    "kernelspec": {
      "name": "python3",
      "display_name": "Python 3"
    },
    "language_info": {
      "name": "python"
    }
  },
  "cells": [
    {
      "cell_type": "markdown",
      "metadata": {
        "id": "view-in-github",
        "colab_type": "text"
      },
      "source": [
        "<a href=\"https://colab.research.google.com/github/newmantic/CRR/blob/main/CRR.ipynb\" target=\"_parent\"><img src=\"https://colab.research.google.com/assets/colab-badge.svg\" alt=\"Open In Colab\"/></a>"
      ]
    },
    {
      "cell_type": "code",
      "execution_count": 1,
      "metadata": {
        "colab": {
          "base_uri": "https://localhost:8080/"
        },
        "id": "rbTJr213zENz",
        "outputId": "61f3b328-3315-4264-c190-587093cadbc4"
      },
      "outputs": [
        {
          "output_type": "stream",
          "name": "stdout",
          "text": [
            "The price of the European call option on the bond is: $11.04\n"
          ]
        }
      ],
      "source": [
        "import numpy as np\n",
        "\n",
        "# Parameters\n",
        "S0 = 100  # Initial bond price\n",
        "K = 100  # Strike price of the option\n",
        "T = 1  # Time to maturity in years\n",
        "r = 0.05  # Risk-free interest rate\n",
        "sigma = 0.2  # Volatility of the bond price\n",
        "n = 3  # Number of time steps\n",
        "\n",
        "# Calculate the parameters of the binomial model\n",
        "dt = T / n  # Time step size\n",
        "u = np.exp(sigma * np.sqrt(dt))  # Up factor\n",
        "d = 1 / u  # Down factor\n",
        "p = (np.exp(r * dt) - d) / (u - d)  # Risk-neutral probability\n",
        "\n",
        "# Initialize asset prices at maturity\n",
        "S = np.zeros((n + 1, n + 1))\n",
        "S[0, 0] = S0\n",
        "for i in range(1, n + 1):\n",
        "    for j in range(i + 1):\n",
        "        S[j, i] = S0 * (u ** (i - j)) * (d ** j)\n",
        "\n",
        "# Initialize option values at maturity\n",
        "V = np.maximum(S[:, n] - K, 0)\n",
        "\n",
        "# Backward induction for option price\n",
        "for i in range(n - 1, -1, -1):\n",
        "    for j in range(i + 1):\n",
        "        V[j] = np.exp(-r * dt) * (p * V[j] + (1 - p) * V[j + 1])\n",
        "\n",
        "# The option price is now at the root of the tree\n",
        "option_price = V[0]\n",
        "print(f\"The price of the European call option on the bond is: ${option_price:.2f}\")"
      ]
    }
  ]
}